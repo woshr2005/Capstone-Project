{
 "cells": [
  {
   "cell_type": "markdown",
   "id": "27b2aa88",
   "metadata": {},
   "source": [
    "# Condo Price Index and Venues Data Analysis of Toronto"
   ]
  },
  {
   "cell_type": "markdown",
   "id": "bb94310a",
   "metadata": {},
   "source": [
    "## Introduction"
   ]
  },
  {
   "cell_type": "markdown",
   "id": "4b3cd131",
   "metadata": {},
   "source": [
    "Toronto is the largest city in Canada which has 2.93 million population and covers an area of 630 square kilometres. As one of the most multicultural urban areas in the world. Each year tens of thousands of newcomers from around the globe move to Toronto and settle down. The city is divided into 35 districts by the Toronto Real Estate Board (TREB).\n",
    "\n",
    "As a newcomer, we want to find a conviniant area to live with relatively lower cost. Therefore, we can create a map and information chart where the real estate index is placed on Toronto and each district is clustered according to the venue which represent the conviniant level."
   ]
  }
 ],
 "metadata": {
  "kernelspec": {
   "display_name": "Python 3",
   "language": "python",
   "name": "python3"
  },
  "language_info": {
   "codemirror_mode": {
    "name": "ipython",
    "version": 3
   },
   "file_extension": ".py",
   "mimetype": "text/x-python",
   "name": "python",
   "nbconvert_exporter": "python",
   "pygments_lexer": "ipython3",
   "version": "3.7.10"
  }
 },
 "nbformat": 4,
 "nbformat_minor": 5
}
