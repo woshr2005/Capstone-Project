{
 "cells": [
  {
   "cell_type": "markdown",
   "id": "a22f464b",
   "metadata": {},
   "source": [
    "# Condo Price Index and Venues Data Analysis of Toronto"
   ]
  },
  {
   "cell_type": "markdown",
   "id": "65f2e1a4",
   "metadata": {},
   "source": [
    "## Data Description"
   ]
  },
  {
   "cell_type": "markdown",
   "id": "ea6e4ea2",
   "metadata": {},
   "source": [
    "To consider the problem we can list the datas as below:\n",
    "\n",
    "1. I found the list of Toronto Multiple listing service (MLS) districts and neighbourhoods within each district on __[Wikipedia](https://en.wikipedia.org/wiki/List_of_neighbourhoods_in_Toronto)__.\n",
    "2. I used **Google Maps API reverse geocoding** to find the cordinate of each neighbourhood, and culculated the cordinates of districts by culculating the centrel point of all the neighbourhoods within the district.\n",
    "3. I used **Forsquare API** to get the venues of districts.\n",
    "4. I found the price index of districts on __[TREB](https://trreb.ca/files/market-stats/home-price-index/TREB_MLS_HPI_Public_Tables_0321.pdf)__."
   ]
  }
 ],
 "metadata": {
  "kernelspec": {
   "display_name": "Python 3",
   "language": "python",
   "name": "python3"
  },
  "language_info": {
   "codemirror_mode": {
    "name": "ipython",
    "version": 3
   },
   "file_extension": ".py",
   "mimetype": "text/x-python",
   "name": "python",
   "nbconvert_exporter": "python",
   "pygments_lexer": "ipython3",
   "version": "3.7.10"
  }
 },
 "nbformat": 4,
 "nbformat_minor": 5
}
